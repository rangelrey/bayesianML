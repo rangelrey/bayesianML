{
 "cells": [
  {
   "cell_type": "markdown",
   "metadata": {},
   "source": [
    "### T-Test"
   ]
  },
  {
   "cell_type": "code",
   "execution_count": 1,
   "metadata": {},
   "outputs": [
    {
     "name": "stdout",
     "output_type": "stream",
     "text": [
      "t:\t 4.104049856594808 p:\t 0.0006661915400922869\n",
      "t2:\t 4.104049856594808 p2:\t 0.0006661915400922795\n"
     ]
    }
   ],
   "source": [
    "from __future__ import print_function, division\n",
    "from builtins import range\n",
    "# Note: you may need to update your version of future\n",
    "# sudo pip install -U future\n",
    "\n",
    "\n",
    "import numpy as np\n",
    "from scipy import stats\n",
    "\n",
    "# generate data\n",
    "N = 10\n",
    "a = np.random.randn(N) + 2 # mean 2, variance 1\n",
    "b = np.random.randn(N) # mean 0, variance 1\n",
    "\n",
    "# roll your own t-test:\n",
    "var_a = a.var(ddof=1) # unbiased estimator, divide by N-1 instead of N\n",
    "var_b = b.var(ddof=1)\n",
    "s = np.sqrt( (var_a + var_b) / 2 ) # balanced standard deviation\n",
    "t = (a.mean() - b.mean()) / (s * np.sqrt(2.0/N)) # t-statistic\n",
    "df = 2*N - 2 # degrees of freedom\n",
    "p = 1 - stats.t.cdf(np.abs(t), df=df) # one-sided test p-value\n",
    "print(\"t:\\t\", t, \"p:\\t\", 2*p) # two-sided test p-value\n",
    "\n",
    "# built-in t-test:\n",
    "t2, p2 = stats.ttest_ind(a, b)\n",
    "print(\"t2:\\t\", t2, \"p2:\\t\", p2)"
   ]
  },
  {
   "cell_type": "markdown",
   "metadata": {},
   "source": [
    "### Chi-square test"
   ]
  },
  {
   "cell_type": "code",
   "execution_count": null,
   "metadata": {},
   "outputs": [],
   "source": [
    "from __future__ import print_function, division\n",
    "from builtins import range\n",
    "# Note: you may need to update your version of future\n",
    "# sudo pip install -U future\n",
    "\n",
    "\n",
    "import numpy as np\n",
    "import matplotlib.pyplot as plt\n",
    "from scipy.stats import chi2, chi2_contingency\n",
    "\n",
    "# contingency table\n",
    "#        click       no click\n",
    "#------------------------------\n",
    "# ad A |   a            b\n",
    "# ad B |   c            d\n",
    "#\n",
    "# chi^2 = (ad - bc)^2 (a + b + c + d) / [ (a + b)(c + d)(a + c)(b + d)]\n",
    "# degrees of freedom = (#cols - 1) x (#rows - 1) = (2 - 1)(2 - 1) = 1\n",
    "\n",
    "# short example\n",
    "\n",
    "# T = np.array([[36, 14], [30, 25]])\n",
    "# c2 = np.linalg.det(T)**2 * T.sum() / ( T[0].sum()*T[1].sum()*T[:,0].sum()*T[:,1].sum() )\n",
    "# p_value = 1 - chi2.cdf(x=c2, df=1)\n",
    "\n",
    "# equivalent:\n",
    "# (36-31.429)**2/31.429+(14-18.571)**2/18.571 + (30-34.571)**2/34.571 + (25-20.429)**2/20.429\n",
    "\n",
    "\n",
    "class DataGenerator:\n",
    "  def __init__(self, p1, p2):\n",
    "    self.p1 = p1\n",
    "    self.p2 = p2\n",
    "\n",
    "  def next(self):\n",
    "    click1 = 1 if (np.random.random() < self.p1) else 0\n",
    "    click2 = 1 if (np.random.random() < self.p2) else 0\n",
    "    return click1, click2\n",
    "\n",
    "\n",
    "def get_p_value(T):\n",
    "  # same as scipy.stats.chi2_contingency(T, correction=False)\n",
    "  det = T[0,0]*T[1,1] - T[0,1]*T[1,0]      #calculate the determinant of the matrix\n",
    "  c2 = float(det) / T[0].sum() * det / T[1].sum() * T.sum() / T[:,0].sum() / T[:,1].sum()\n",
    "  p = 1 - chi2.cdf(x=c2, df=1)\n",
    "  return p\n",
    "\n",
    "\n",
    "def run_experiment(p1, p2, N):\n",
    "  data = DataGenerator(p1, p2)\n",
    "  p_values = np.empty(N)\n",
    "  T = np.zeros((2, 2)).astype(np.float32)\n",
    "  for i in range(N):\n",
    "    c1, c2 = data.next()\n",
    "    T[0,c1] += 1\n",
    "    T[1,c2] += 1\n",
    "    # ignore the first 10 values\n",
    "    if i < 10:\n",
    "      p_values[i] = None\n",
    "    else:\n",
    "      p_values[i] = get_p_value(T)\n",
    "  plt.plot(p_values)\n",
    "  plt.plot(np.ones(N)*0.05)\n",
    "  plt.show()\n",
    "\n",
    "run_experiment(0.1, 0.11, 20000)\n"
   ]
  }
 ],
 "metadata": {
  "kernelspec": {
   "display_name": "Python 3",
   "language": "python",
   "name": "python3"
  },
  "language_info": {
   "codemirror_mode": {
    "name": "ipython",
    "version": 3
   },
   "file_extension": ".py",
   "mimetype": "text/x-python",
   "name": "python",
   "nbconvert_exporter": "python",
   "pygments_lexer": "ipython3",
   "version": "3.7.3"
  }
 },
 "nbformat": 4,
 "nbformat_minor": 4
}
