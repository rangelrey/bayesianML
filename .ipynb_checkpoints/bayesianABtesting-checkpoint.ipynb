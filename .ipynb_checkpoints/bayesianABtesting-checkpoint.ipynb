{
 "cells": [
  {
   "cell_type": "markdown",
   "metadata": {},
   "source": [
    "### T-Test"
   ]
  },
  {
   "cell_type": "code",
   "execution_count": 1,
   "metadata": {},
   "outputs": [
    {
     "name": "stdout",
     "output_type": "stream",
     "text": [
      "t:\t 4.104049856594808 p:\t 0.0006661915400922869\n",
      "t2:\t 4.104049856594808 p2:\t 0.0006661915400922795\n"
     ]
    }
   ],
   "source": [
    "from __future__ import print_function, division\n",
    "from builtins import range\n",
    "# Note: you may need to update your version of future\n",
    "# sudo pip install -U future\n",
    "\n",
    "\n",
    "import numpy as np\n",
    "from scipy import stats\n",
    "\n",
    "# generate data\n",
    "N = 10\n",
    "a = np.random.randn(N) + 2 # mean 2, variance 1\n",
    "b = np.random.randn(N) # mean 0, variance 1\n",
    "\n",
    "# roll your own t-test:\n",
    "var_a = a.var(ddof=1) # unbiased estimator, divide by N-1 instead of N\n",
    "var_b = b.var(ddof=1)\n",
    "s = np.sqrt( (var_a + var_b) / 2 ) # balanced standard deviation\n",
    "t = (a.mean() - b.mean()) / (s * np.sqrt(2.0/N)) # t-statistic\n",
    "df = 2*N - 2 # degrees of freedom\n",
    "p = 1 - stats.t.cdf(np.abs(t), df=df) # one-sided test p-value\n",
    "print(\"t:\\t\", t, \"p:\\t\", 2*p) # two-sided test p-value\n",
    "\n",
    "# built-in t-test:\n",
    "t2, p2 = stats.ttest_ind(a, b)\n",
    "print(\"t2:\\t\", t2, \"p2:\\t\", p2)"
   ]
  },
  {
   "cell_type": "code",
   "execution_count": null,
   "metadata": {},
   "outputs": [],
   "source": []
  }
 ],
 "metadata": {
  "kernelspec": {
   "display_name": "Python 3",
   "language": "python",
   "name": "python3"
  },
  "language_info": {
   "codemirror_mode": {
    "name": "ipython",
    "version": 3
   },
   "file_extension": ".py",
   "mimetype": "text/x-python",
   "name": "python",
   "nbconvert_exporter": "python",
   "pygments_lexer": "ipython3",
   "version": "3.7.3"
  }
 },
 "nbformat": 4,
 "nbformat_minor": 4
}
